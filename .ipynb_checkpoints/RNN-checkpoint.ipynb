{
 "cells": [
  {
   "cell_type": "code",
   "execution_count": null,
   "metadata": {
    "collapsed": true
   },
   "outputs": [],
   "source": [
    "import numpy as np\n",
    "\n",
    "class RNN:\n",
    "    # implementation of vanilla RNN\n",
    "    def step(self,x):\n",
    "        # updating hidden state using St = tanh ( W_xh * X_t + W_hh * S_(t-1) )\n",
    "        self.h = np.tanh( np.dot(self.W_xh, x) + np.dot(self.W_hh, self.h) )\n",
    "        \n",
    "        # computing the output of the hidden unit\n",
    "        y = np.dot(self.W_hy, self.h)\n",
    "        return y\n",
    "    "
   ]
  }
 ],
 "metadata": {
  "kernelspec": {
   "display_name": "Python 2",
   "language": "python",
   "name": "python2"
  },
  "language_info": {
   "codemirror_mode": {
    "name": "ipython",
    "version": 2
   },
   "file_extension": ".py",
   "mimetype": "text/x-python",
   "name": "python",
   "nbconvert_exporter": "python",
   "pygments_lexer": "ipython2",
   "version": "2.7.11"
  }
 },
 "nbformat": 4,
 "nbformat_minor": 0
}
